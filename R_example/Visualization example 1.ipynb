{
 "cells": [
  {
   "cell_type": "code",
   "execution_count": 2,
   "id": "0861868c",
   "metadata": {
    "ExecuteTime": {
     "end_time": "2022-04-25T10:53:22.791124Z",
     "start_time": "2022-04-25T10:53:22.316Z"
    }
   },
   "outputs": [
    {
     "data": {
      "text/html": [
       "<table class=\"dataframe\">\n",
       "<caption>A data.frame: 6 × 8</caption>\n",
       "<thead>\n",
       "\t<tr><th></th><th scope=col>state</th><th scope=col>murder</th><th scope=col>forcible_rape</th><th scope=col>robbery</th><th scope=col>aggravated_assault</th><th scope=col>burglary</th><th scope=col>larceny_theft</th><th scope=col>motor_vehicle_theft</th></tr>\n",
       "\t<tr><th></th><th scope=col>&lt;chr&gt;</th><th scope=col>&lt;dbl&gt;</th><th scope=col>&lt;dbl&gt;</th><th scope=col>&lt;dbl&gt;</th><th scope=col>&lt;dbl&gt;</th><th scope=col>&lt;dbl&gt;</th><th scope=col>&lt;dbl&gt;</th><th scope=col>&lt;dbl&gt;</th></tr>\n",
       "</thead>\n",
       "<tbody>\n",
       "\t<tr><th scope=row>1</th><td>United States </td><td>5.6</td><td>31.7</td><td>140.7</td><td>291.1</td><td> 726.7</td><td>2286.3</td><td>416.7</td></tr>\n",
       "\t<tr><th scope=row>2</th><td>Alabama       </td><td>8.2</td><td>34.3</td><td>141.4</td><td>247.8</td><td> 953.8</td><td>2650.0</td><td>288.3</td></tr>\n",
       "\t<tr><th scope=row>3</th><td>Alaska        </td><td>4.8</td><td>81.1</td><td> 80.9</td><td>465.1</td><td> 622.5</td><td>2599.1</td><td>391.0</td></tr>\n",
       "\t<tr><th scope=row>4</th><td>Arizona       </td><td>7.5</td><td>33.8</td><td>144.4</td><td>327.4</td><td> 948.4</td><td>2965.2</td><td>924.4</td></tr>\n",
       "\t<tr><th scope=row>5</th><td>Arkansas      </td><td>6.7</td><td>42.9</td><td> 91.1</td><td>386.8</td><td>1084.6</td><td>2711.2</td><td>262.1</td></tr>\n",
       "\t<tr><th scope=row>6</th><td>California    </td><td>6.9</td><td>26.0</td><td>176.1</td><td>317.3</td><td> 693.3</td><td>1916.5</td><td>712.8</td></tr>\n",
       "</tbody>\n",
       "</table>\n"
      ],
      "text/latex": [
       "A data.frame: 6 × 8\n",
       "\\begin{tabular}{r|llllllll}\n",
       "  & state & murder & forcible\\_rape & robbery & aggravated\\_assault & burglary & larceny\\_theft & motor\\_vehicle\\_theft\\\\\n",
       "  & <chr> & <dbl> & <dbl> & <dbl> & <dbl> & <dbl> & <dbl> & <dbl>\\\\\n",
       "\\hline\n",
       "\t1 & United States  & 5.6 & 31.7 & 140.7 & 291.1 &  726.7 & 2286.3 & 416.7\\\\\n",
       "\t2 & Alabama        & 8.2 & 34.3 & 141.4 & 247.8 &  953.8 & 2650.0 & 288.3\\\\\n",
       "\t3 & Alaska         & 4.8 & 81.1 &  80.9 & 465.1 &  622.5 & 2599.1 & 391.0\\\\\n",
       "\t4 & Arizona        & 7.5 & 33.8 & 144.4 & 327.4 &  948.4 & 2965.2 & 924.4\\\\\n",
       "\t5 & Arkansas       & 6.7 & 42.9 &  91.1 & 386.8 & 1084.6 & 2711.2 & 262.1\\\\\n",
       "\t6 & California     & 6.9 & 26.0 & 176.1 & 317.3 &  693.3 & 1916.5 & 712.8\\\\\n",
       "\\end{tabular}\n"
      ],
      "text/markdown": [
       "\n",
       "A data.frame: 6 × 8\n",
       "\n",
       "| <!--/--> | state &lt;chr&gt; | murder &lt;dbl&gt; | forcible_rape &lt;dbl&gt; | robbery &lt;dbl&gt; | aggravated_assault &lt;dbl&gt; | burglary &lt;dbl&gt; | larceny_theft &lt;dbl&gt; | motor_vehicle_theft &lt;dbl&gt; |\n",
       "|---|---|---|---|---|---|---|---|---|\n",
       "| 1 | United States  | 5.6 | 31.7 | 140.7 | 291.1 |  726.7 | 2286.3 | 416.7 |\n",
       "| 2 | Alabama        | 8.2 | 34.3 | 141.4 | 247.8 |  953.8 | 2650.0 | 288.3 |\n",
       "| 3 | Alaska         | 4.8 | 81.1 |  80.9 | 465.1 |  622.5 | 2599.1 | 391.0 |\n",
       "| 4 | Arizona        | 7.5 | 33.8 | 144.4 | 327.4 |  948.4 | 2965.2 | 924.4 |\n",
       "| 5 | Arkansas       | 6.7 | 42.9 |  91.1 | 386.8 | 1084.6 | 2711.2 | 262.1 |\n",
       "| 6 | California     | 6.9 | 26.0 | 176.1 | 317.3 |  693.3 | 1916.5 | 712.8 |\n",
       "\n"
      ],
      "text/plain": [
       "  state          murder forcible_rape robbery aggravated_assault burglary\n",
       "1 United States  5.6    31.7          140.7   291.1               726.7  \n",
       "2 Alabama        8.2    34.3          141.4   247.8               953.8  \n",
       "3 Alaska         4.8    81.1           80.9   465.1               622.5  \n",
       "4 Arizona        7.5    33.8          144.4   327.4               948.4  \n",
       "5 Arkansas       6.7    42.9           91.1   386.8              1084.6  \n",
       "6 California     6.9    26.0          176.1   317.3               693.3  \n",
       "  larceny_theft motor_vehicle_theft\n",
       "1 2286.3        416.7              \n",
       "2 2650.0        288.3              \n",
       "3 2599.1        391.0              \n",
       "4 2965.2        924.4              \n",
       "5 2711.2        262.1              \n",
       "6 1916.5        712.8              "
      ]
     },
     "metadata": {},
     "output_type": "display_data"
    }
   ],
   "source": [
    "crime <- read.csv(\"http://datasets.flowingdata.com/crimeRatesByState-formatted.csv\")\n",
    "head(crime)#网上数据未失效方法"
   ]
  },
  {
   "cell_type": "code",
   "execution_count": 4,
   "id": "d1f4a87a",
   "metadata": {
    "ExecuteTime": {
     "end_time": "2022-04-25T10:54:03.051779Z",
     "start_time": "2022-04-25T10:54:03.020Z"
    }
   },
   "outputs": [
    {
     "data": {
      "text/html": [
       "<table class=\"dataframe\">\n",
       "<caption>A data.frame: 6 × 8</caption>\n",
       "<thead>\n",
       "\t<tr><th></th><th scope=col>state</th><th scope=col>murder</th><th scope=col>forcible_rape</th><th scope=col>robbery</th><th scope=col>aggravated_assault</th><th scope=col>burglary</th><th scope=col>larceny_theft</th><th scope=col>motor_vehicle_theft</th></tr>\n",
       "\t<tr><th></th><th scope=col>&lt;chr&gt;</th><th scope=col>&lt;dbl&gt;</th><th scope=col>&lt;dbl&gt;</th><th scope=col>&lt;dbl&gt;</th><th scope=col>&lt;dbl&gt;</th><th scope=col>&lt;dbl&gt;</th><th scope=col>&lt;dbl&gt;</th><th scope=col>&lt;dbl&gt;</th></tr>\n",
       "</thead>\n",
       "<tbody>\n",
       "\t<tr><th scope=row>1</th><td>United States </td><td>5.6</td><td>31.7</td><td>140.7</td><td>291.1</td><td> 726.7</td><td>2286.3</td><td>416.7</td></tr>\n",
       "\t<tr><th scope=row>2</th><td>Alabama       </td><td>8.2</td><td>34.3</td><td>141.4</td><td>247.8</td><td> 953.8</td><td>2650.0</td><td>288.3</td></tr>\n",
       "\t<tr><th scope=row>3</th><td>Alaska        </td><td>4.8</td><td>81.1</td><td> 80.9</td><td>465.1</td><td> 622.5</td><td>2599.1</td><td>391.0</td></tr>\n",
       "\t<tr><th scope=row>4</th><td>Arizona       </td><td>7.5</td><td>33.8</td><td>144.4</td><td>327.4</td><td> 948.4</td><td>2965.2</td><td>924.4</td></tr>\n",
       "\t<tr><th scope=row>5</th><td>Arkansas      </td><td>6.7</td><td>42.9</td><td> 91.1</td><td>386.8</td><td>1084.6</td><td>2711.2</td><td>262.1</td></tr>\n",
       "\t<tr><th scope=row>6</th><td>California    </td><td>6.9</td><td>26.0</td><td>176.1</td><td>317.3</td><td> 693.3</td><td>1916.5</td><td>712.8</td></tr>\n",
       "</tbody>\n",
       "</table>\n"
      ],
      "text/latex": [
       "A data.frame: 6 × 8\n",
       "\\begin{tabular}{r|llllllll}\n",
       "  & state & murder & forcible\\_rape & robbery & aggravated\\_assault & burglary & larceny\\_theft & motor\\_vehicle\\_theft\\\\\n",
       "  & <chr> & <dbl> & <dbl> & <dbl> & <dbl> & <dbl> & <dbl> & <dbl>\\\\\n",
       "\\hline\n",
       "\t1 & United States  & 5.6 & 31.7 & 140.7 & 291.1 &  726.7 & 2286.3 & 416.7\\\\\n",
       "\t2 & Alabama        & 8.2 & 34.3 & 141.4 & 247.8 &  953.8 & 2650.0 & 288.3\\\\\n",
       "\t3 & Alaska         & 4.8 & 81.1 &  80.9 & 465.1 &  622.5 & 2599.1 & 391.0\\\\\n",
       "\t4 & Arizona        & 7.5 & 33.8 & 144.4 & 327.4 &  948.4 & 2965.2 & 924.4\\\\\n",
       "\t5 & Arkansas       & 6.7 & 42.9 &  91.1 & 386.8 & 1084.6 & 2711.2 & 262.1\\\\\n",
       "\t6 & California     & 6.9 & 26.0 & 176.1 & 317.3 &  693.3 & 1916.5 & 712.8\\\\\n",
       "\\end{tabular}\n"
      ],
      "text/markdown": [
       "\n",
       "A data.frame: 6 × 8\n",
       "\n",
       "| <!--/--> | state &lt;chr&gt; | murder &lt;dbl&gt; | forcible_rape &lt;dbl&gt; | robbery &lt;dbl&gt; | aggravated_assault &lt;dbl&gt; | burglary &lt;dbl&gt; | larceny_theft &lt;dbl&gt; | motor_vehicle_theft &lt;dbl&gt; |\n",
       "|---|---|---|---|---|---|---|---|---|\n",
       "| 1 | United States  | 5.6 | 31.7 | 140.7 | 291.1 |  726.7 | 2286.3 | 416.7 |\n",
       "| 2 | Alabama        | 8.2 | 34.3 | 141.4 | 247.8 |  953.8 | 2650.0 | 288.3 |\n",
       "| 3 | Alaska         | 4.8 | 81.1 |  80.9 | 465.1 |  622.5 | 2599.1 | 391.0 |\n",
       "| 4 | Arizona        | 7.5 | 33.8 | 144.4 | 327.4 |  948.4 | 2965.2 | 924.4 |\n",
       "| 5 | Arkansas       | 6.7 | 42.9 |  91.1 | 386.8 | 1084.6 | 2711.2 | 262.1 |\n",
       "| 6 | California     | 6.9 | 26.0 | 176.1 | 317.3 |  693.3 | 1916.5 | 712.8 |\n",
       "\n"
      ],
      "text/plain": [
       "  state          murder forcible_rape robbery aggravated_assault burglary\n",
       "1 United States  5.6    31.7          140.7   291.1               726.7  \n",
       "2 Alabama        8.2    34.3          141.4   247.8               953.8  \n",
       "3 Alaska         4.8    81.1           80.9   465.1               622.5  \n",
       "4 Arizona        7.5    33.8          144.4   327.4               948.4  \n",
       "5 Arkansas       6.7    42.9           91.1   386.8              1084.6  \n",
       "6 California     6.9    26.0          176.1   317.3               693.3  \n",
       "  larceny_theft motor_vehicle_theft\n",
       "1 2286.3        416.7              \n",
       "2 2650.0        288.3              \n",
       "3 2599.1        391.0              \n",
       "4 2965.2        924.4              \n",
       "5 2711.2        262.1              \n",
       "6 1916.5        712.8              "
      ]
     },
     "metadata": {},
     "output_type": "display_data"
    }
   ],
   "source": [
    "crime <- read.csv(\"dataset/crimeRatesByState-formatted.csv\")\n",
    "head(crime)#网上数据失效后的方法"
   ]
  },
  {
   "cell_type": "code",
   "execution_count": 7,
   "id": "09c1e853",
   "metadata": {
    "ExecuteTime": {
     "end_time": "2022-04-25T10:57:10.079787Z",
     "start_time": "2022-04-25T10:57:09.940Z"
    }
   },
   "outputs": [],
   "source": [
    "#install.packages(\"aplpack\")\n",
    "library(aplpack)"
   ]
  },
  {
   "cell_type": "code",
   "execution_count": null,
   "id": "c8ede951",
   "metadata": {},
   "outputs": [],
   "source": []
  }
 ],
 "metadata": {
  "hide_input": false,
  "kernelspec": {
   "display_name": "R",
   "language": "R",
   "name": "ir"
  },
  "language_info": {
   "codemirror_mode": "r",
   "file_extension": ".r",
   "mimetype": "text/x-r-source",
   "name": "R",
   "pygments_lexer": "r",
   "version": "4.2.0"
  },
  "toc": {
   "base_numbering": 1,
   "nav_menu": {},
   "number_sections": true,
   "sideBar": true,
   "skip_h1_title": false,
   "title_cell": "Table of Contents",
   "title_sidebar": "Contents",
   "toc_cell": false,
   "toc_position": {},
   "toc_section_display": true,
   "toc_window_display": false
  },
  "varInspector": {
   "cols": {
    "lenName": 16,
    "lenType": 16,
    "lenVar": 40
   },
   "kernels_config": {
    "python": {
     "delete_cmd_postfix": "",
     "delete_cmd_prefix": "del ",
     "library": "var_list.py",
     "varRefreshCmd": "print(var_dic_list())"
    },
    "r": {
     "delete_cmd_postfix": ") ",
     "delete_cmd_prefix": "rm(",
     "library": "var_list.r",
     "varRefreshCmd": "cat(var_dic_list()) "
    }
   },
   "types_to_exclude": [
    "module",
    "function",
    "builtin_function_or_method",
    "instance",
    "_Feature"
   ],
   "window_display": false
  }
 },
 "nbformat": 4,
 "nbformat_minor": 5
}
