{
 "cells": [
  {
   "cell_type": "code",
   "execution_count": 7,
   "id": "7cf9a5d6",
   "metadata": {
    "ExecuteTime": {
     "end_time": "2022-04-25T04:55:32.147959Z",
     "start_time": "2022-04-25T04:55:31.779Z"
    }
   },
   "outputs": [
    {
     "data": {
      "image/png": "[encoded data removed]",
      "text/plain": [
       "plot without title"
      ]
     },
     "metadata": {
      "image/png": {
       "height": 420,
       "width": 420
      }
     },
     "output_type": "display_data"
    }
   ],
   "source": [
    "# Library\n",
    "library(ggplot2)\n",
    "\n",
    "# create a dataset\n",
    "data <- data.frame(\n",
    "  name=c( rep(\"A\",500), rep(\"B\",500), rep(\"B\",500), rep(\"C\",20), rep('D', 100)  ),\n",
    "  value=c( rnorm(500, 10, 5), rnorm(500, 13, 1), rnorm(500, 18, 1), rnorm(20, 25, 4), rnorm(100, 12, 1) )\n",
    ")\n",
    "\n",
    "# Most basic violin chart\n",
    "p <- ggplot(data, aes(x=name, y=value, fill=name)) + # fill=name allow to automatically dedicate a color for each group\n",
    "  geom_violin()\n",
    "p\n",
    "#p"
   ]
  },
  {
   "cell_type": "code",
   "execution_count": 15,
   "id": "fd34cc18",
   "metadata": {
    "ExecuteTime": {
     "end_time": "2022-04-25T09:04:52.603935Z",
     "start_time": "2022-04-25T09:04:52.561Z"
    }
   },
   "outputs": [
    {
     "name": "stderr",
     "output_type": "stream",
     "text": [
      "Warning message in file(file, \"rt\"):\n",
      "\"URL 'https://raw.githubusercontent.com/zonination/perceptions/master/probly.csv': status was 'Couldn't resolve host name'\"\n"
     ]
    },
    {
     "ename": "ERROR",
     "evalue": "Error in file(file, \"rt\"): cannot open the connection to 'https://raw.githubusercontent.com/zonination/perceptions/master/probly.csv'\n",
     "output_type": "error",
     "traceback": [
      "Error in file(file, \"rt\"): cannot open the connection to 'https://raw.githubusercontent.com/zonination/perceptions/master/probly.csv'\nTraceback:\n",
      "1. read.table(\"https://raw.githubusercontent.com/zonination/perceptions/master/probly.csv\", \n .     header = TRUE, sep = \",\")",
      "2. file(file, \"rt\")"
     ]
    }
   ],
   "source": [
    "# Libraries\n",
    "library(ggplot2)\n",
    "library(dplyr)\n",
    "library(tidyr)\n",
    "library(forcats)\n",
    "library(hrbrthemes)\n",
    "library(viridis)\n",
    "\n",
    "# Load dataset from github\n",
    "data <- read.table(\"https://raw.githubusercontent.com/zonination/perceptions/master/probly.csv\", header=TRUE, sep=\",\")\n",
    "\n",
    "# Data is at wide format, we need to make it 'tidy' or 'long'\n",
    "data <- data %>% \n",
    "  gather(key=\"text\", value=\"value\") %>%\n",
    "  mutate(text = gsub(\"\\\\.\", \" \",text)) %>%\n",
    "  mutate(value = round(as.numeric(value),0)) %>%\n",
    "  filter(text %in% c(\"Almost Certainly\",\"Very Good Chance\",\"We Believe\",\"Likely\",\"About Even\", \"Little Chance\", \"Chances Are Slight\", \"Almost No Chance\"))\n",
    "\n",
    "# Plot\n",
    "p <- data %>%\n",
    "  mutate(text = fct_reorder(text, value)) %>% # Reorder data\n",
    "  ggplot( aes(x=text, y=value, fill=text, color=text)) +\n",
    "    geom_violin(width=2.1, size=0.2) +\n",
    "    scale_fill_viridis(discrete=TRUE) +\n",
    "    scale_color_viridis(discrete=TRUE) +\n",
    "    theme_ipsum() +\n",
    "    theme(\n",
    "      legend.position=\"none\"\n",
    "    ) +\n",
    "    coord_flip() + # This switch X and Y axis and allows to get the horizontal version\n",
    "    xlab(\"\") +\n",
    "    ylab(\"Assigned Probability (%)\")\n",
    "\n",
    "p"
   ]
  },
  {
   "cell_type": "code",
   "execution_count": 18,
   "id": "49af570b",
   "metadata": {
    "ExecuteTime": {
     "end_time": "2022-04-25T09:06:44.579832Z",
     "start_time": "2022-04-25T09:06:44.145Z"
    }
   },
   "outputs": [
    {
     "name": "stderr",
     "output_type": "stream",
     "text": [
      "\u001b[1m\u001b[22mJoining, by = \"name\"\n",
      "Warning message:\n",
      "\"position_dodge requires non-overlapping x intervals\"\n",
      "Warning message in grid.Call(C_textBounds, as.graphicsAnnot(x$label), x$x, x$y, :\n",
      "\"font family not found in Windows font database\"\n",
      "Warning message in grid.Call(C_textBounds, as.graphicsAnnot(x$label), x$x, x$y, :\n",
      "\"font family not found in Windows font database\"\n",
      "Warning message in grid.Call(C_textBounds, as.graphicsAnnot(x$label), x$x, x$y, :\n",
      "\"font family not found in Windows font database\"\n",
      "Warning message in grid.Call(C_textBounds, as.graphicsAnnot(x$label), x$x, x$y, :\n",
      "\"font family not found in Windows font database\"\n",
      "Warning message in grid.Call(C_textBounds, as.graphicsAnnot(x$label), x$x, x$y, :\n",
      "\"font family not found in Windows font database\"\n",
      "Warning message in grid.Call(C_textBounds, as.graphicsAnnot(x$label), x$x, x$y, :\n",
      "\"font family not found in Windows font database\"\n",
      "Warning message in grid.Call(C_textBounds, as.graphicsAnnot(x$label), x$x, x$y, :\n",
      "\"font family not found in Windows font database\"\n",
      "Warning message in grid.Call(C_textBounds, as.graphicsAnnot(x$label), x$x, x$y, :\n",
      "\"font family not found in Windows font database\"\n",
      "Warning message in grid.Call(C_textBounds, as.graphicsAnnot(x$label), x$x, x$y, :\n",
      "\"font family not found in Windows font database\"\n",
      "Warning message in grid.Call(C_textBounds, as.graphicsAnnot(x$label), x$x, x$y, :\n",
      "\"font family not found in Windows font database\"\n",
      "Warning message in grid.Call.graphics(C_text, as.graphicsAnnot(x$label), x$x, x$y, :\n",
      "\"font family not found in Windows font database\"\n",
      "Warning message in grid.Call(C_textBounds, as.graphicsAnnot(x$label), x$x, x$y, :\n",
      "\"font family not found in Windows font database\"\n"
     ]
    },
    {
     "data": {
      "image/png": "[encoded data removed]",
      "text/plain": [
       "plot without title"
      ]
     },
     "metadata": {
      "image/png": {
       "height": 420,
       "width": 420
      }
     },
     "output_type": "display_data"
    }
   ],
   "source": [
    "library(ggplot2)\n",
    "library(dplyr)\n",
    "library(hrbrthemes)\n",
    "library(viridis)\n",
    "\n",
    "# create a dataset\n",
    "data <- data.frame(\n",
    "  name=c( rep(\"A\",500), rep(\"B\",500), rep(\"B\",500), rep(\"C\",20), rep('D', 100)  ),\n",
    "  value=c( rnorm(500, 10, 5), rnorm(500, 13, 1), rnorm(500, 18, 1), rnorm(20, 25, 4), rnorm(100, 12, 1) )\n",
    ")\n",
    "\n",
    "# sample size\n",
    "sample_size = data %>% group_by(name) %>% summarize(num=n())\n",
    "\n",
    "# Plot\n",
    "data %>%\n",
    "  left_join(sample_size) %>%\n",
    "  mutate(myaxis = paste0(name, \"\\n\", \"n=\", num)) %>%\n",
    "  ggplot( aes(x=myaxis, y=value, fill=name)) +\n",
    "    geom_violin(width=1.4) +\n",
    "    geom_boxplot(width=0.1, color=\"grey\", alpha=0.2) +\n",
    "    scale_fill_viridis(discrete = TRUE) +\n",
    "    theme_ipsum() +\n",
    "    theme(\n",
    "      legend.position=\"none\",\n",
    "      plot.title = element_text(size=11)\n",
    "    ) +\n",
    "    ggtitle(\"A Violin wrapping a boxplot\") +\n",
    "    xlab(\"\")"
   ]
  },
  {
   "cell_type": "code",
   "execution_count": null,
   "id": "bbb617c6",
   "metadata": {},
   "outputs": [],
   "source": []
  }
 ],
 "metadata": {
  "hide_input": false,
  "kernelspec": {
   "display_name": "R",
   "language": "R",
   "name": "ir"
  },
  "language_info": {
   "codemirror_mode": "r",
   "file_extension": ".r",
   "mimetype": "text/x-r-source",
   "name": "R",
   "pygments_lexer": "r",
   "version": "4.2.0"
  },
  "toc": {
   "base_numbering": 1,
   "nav_menu": {},
   "number_sections": true,
   "sideBar": true,
   "skip_h1_title": false,
   "title_cell": "Table of Contents",
   "title_sidebar": "Contents",
   "toc_cell": false,
   "toc_position": {},
   "toc_section_display": true,
   "toc_window_display": false
  },
  "varInspector": {
   "cols": {
    "lenName": 16,
    "lenType": 16,
    "lenVar": 40
   },
   "kernels_config": {
    "python": {
     "delete_cmd_postfix": "",
     "delete_cmd_prefix": "del ",
     "library": "var_list.py",
     "varRefreshCmd": "print(var_dic_list())"
    },
    "r": {
     "delete_cmd_postfix": ") ",
     "delete_cmd_prefix": "rm(",
     "library": "var_list.r",
     "varRefreshCmd": "cat(var_dic_list()) "
    }
   },
   "types_to_exclude": [
    "module",
    "function",
    "builtin_function_or_method",
    "instance",
    "_Feature"
   ],
   "window_display": false
  }
 },
 "nbformat": 4,
 "nbformat_minor": 5
}
