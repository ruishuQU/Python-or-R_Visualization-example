{
 "cells": [
  {
   "cell_type": "markdown",
   "metadata": {},
   "source": [
    "# 6大回归模型预测航班票价"
   ]
  },
  {
   "cell_type": "code",
   "execution_count": 4,
   "metadata": {
    "ExecuteTime": {
     "end_time": "2022-03-09T17:37:05.379388Z",
     "start_time": "2022-03-09T17:37:05.365453Z"
    }
   },
   "outputs": [],
   "source": [
    "#数据处理\n",
    "import pandas as pd \n",
    "import numpy as np \n",
    "pd.set_option('display.max_columns', 33)  #最多显示33列\n",
    "\n",
    "# 可视化\n",
    "import seaborn as sns \n",
    "import matplotlib.pyplot as plt\n",
    "import plotly.express as px\n",
    "\n",
    "# 建模 \n",
    "from sklearn.preprocessing import StandardScaler\n",
    "from sklearn.model_selection import train_test_split,GridSearchCV\n",
    "#模型评价\n",
    "from sklearn.metrics import accuracy_score,confusion_matrix\n",
    "\n",
    "# 忽略notebook中的警告\n",
    "import warnings\n",
    "warnings.filterwarnings('ignore')"
   ]
  },
  {
   "cell_type": "code",
   "execution_count": 5,
   "metadata": {
    "ExecuteTime": {
     "end_time": "2022-03-09T17:47:43.104995Z",
     "start_time": "2022-03-09T17:47:42.380932Z"
    }
   },
   "outputs": [
    {
     "data": {
      "text/html": [
       "<div>\n",
       "<style scoped>\n",
       "    .dataframe tbody tr th:only-of-type {\n",
       "        vertical-align: middle;\n",
       "    }\n",
       "\n",
       "    .dataframe tbody tr th {\n",
       "        vertical-align: top;\n",
       "    }\n",
       "\n",
       "    .dataframe thead th {\n",
       "        text-align: right;\n",
       "    }\n",
       "</style>\n",
       "<table border=\"1\" class=\"dataframe\">\n",
       "  <thead>\n",
       "    <tr style=\"text-align: right;\">\n",
       "      <th></th>\n",
       "      <th>Airline</th>\n",
       "      <th>Date_of_Journey</th>\n",
       "      <th>Source</th>\n",
       "      <th>Destination</th>\n",
       "      <th>Route</th>\n",
       "      <th>Dep_Time</th>\n",
       "      <th>Arrival_Time</th>\n",
       "      <th>Duration</th>\n",
       "      <th>Total_Stops</th>\n",
       "      <th>Additional_Info</th>\n",
       "      <th>Price</th>\n",
       "    </tr>\n",
       "  </thead>\n",
       "  <tbody>\n",
       "    <tr>\n",
       "      <th>0</th>\n",
       "      <td>IndiGo</td>\n",
       "      <td>24/03/2019</td>\n",
       "      <td>Banglore</td>\n",
       "      <td>New Delhi</td>\n",
       "      <td>BLR → DEL</td>\n",
       "      <td>22:20</td>\n",
       "      <td>01:10 22 Mar</td>\n",
       "      <td>2h 50m</td>\n",
       "      <td>non-stop</td>\n",
       "      <td>No info</td>\n",
       "      <td>3897</td>\n",
       "    </tr>\n",
       "    <tr>\n",
       "      <th>1</th>\n",
       "      <td>Air India</td>\n",
       "      <td>1/05/2019</td>\n",
       "      <td>Kolkata</td>\n",
       "      <td>Banglore</td>\n",
       "      <td>CCU → IXR → BBI → BLR</td>\n",
       "      <td>05:50</td>\n",
       "      <td>13:15</td>\n",
       "      <td>7h 25m</td>\n",
       "      <td>2 stops</td>\n",
       "      <td>No info</td>\n",
       "      <td>7662</td>\n",
       "    </tr>\n",
       "    <tr>\n",
       "      <th>2</th>\n",
       "      <td>Jet Airways</td>\n",
       "      <td>9/06/2019</td>\n",
       "      <td>Delhi</td>\n",
       "      <td>Cochin</td>\n",
       "      <td>DEL → LKO → BOM → COK</td>\n",
       "      <td>09:25</td>\n",
       "      <td>04:25 10 Jun</td>\n",
       "      <td>19h</td>\n",
       "      <td>2 stops</td>\n",
       "      <td>No info</td>\n",
       "      <td>13882</td>\n",
       "    </tr>\n",
       "    <tr>\n",
       "      <th>3</th>\n",
       "      <td>IndiGo</td>\n",
       "      <td>12/05/2019</td>\n",
       "      <td>Kolkata</td>\n",
       "      <td>Banglore</td>\n",
       "      <td>CCU → NAG → BLR</td>\n",
       "      <td>18:05</td>\n",
       "      <td>23:30</td>\n",
       "      <td>5h 25m</td>\n",
       "      <td>1 stop</td>\n",
       "      <td>No info</td>\n",
       "      <td>6218</td>\n",
       "    </tr>\n",
       "    <tr>\n",
       "      <th>4</th>\n",
       "      <td>IndiGo</td>\n",
       "      <td>01/03/2019</td>\n",
       "      <td>Banglore</td>\n",
       "      <td>New Delhi</td>\n",
       "      <td>BLR → NAG → DEL</td>\n",
       "      <td>16:50</td>\n",
       "      <td>21:35</td>\n",
       "      <td>4h 45m</td>\n",
       "      <td>1 stop</td>\n",
       "      <td>No info</td>\n",
       "      <td>13302</td>\n",
       "    </tr>\n",
       "  </tbody>\n",
       "</table>\n",
       "</div>"
      ],
      "text/plain": [
       "       Airline Date_of_Journey    Source Destination                  Route  \\\n",
       "0       IndiGo      24/03/2019  Banglore   New Delhi              BLR → DEL   \n",
       "1    Air India       1/05/2019   Kolkata    Banglore  CCU → IXR → BBI → BLR   \n",
       "2  Jet Airways       9/06/2019     Delhi      Cochin  DEL → LKO → BOM → COK   \n",
       "3       IndiGo      12/05/2019   Kolkata    Banglore        CCU → NAG → BLR   \n",
       "4       IndiGo      01/03/2019  Banglore   New Delhi        BLR → NAG → DEL   \n",
       "\n",
       "  Dep_Time  Arrival_Time Duration Total_Stops Additional_Info  Price  \n",
       "0    22:20  01:10 22 Mar   2h 50m    non-stop         No info   3897  \n",
       "1    05:50         13:15   7h 25m     2 stops         No info   7662  \n",
       "2    09:25  04:25 10 Jun      19h     2 stops         No info  13882  \n",
       "3    18:05         23:30   5h 25m      1 stop         No info   6218  \n",
       "4    16:50         21:35   4h 45m      1 stop         No info  13302  "
      ]
     },
     "execution_count": 5,
     "metadata": {},
     "output_type": "execute_result"
    }
   ],
   "source": [
    "df = pd.read_excel(\"E:/git/python_Visualization-example/datasets/Data_Train.xlsx\")\n",
    "df.head()"
   ]
  },
  {
   "cell_type": "code",
   "execution_count": 6,
   "metadata": {
    "ExecuteTime": {
     "end_time": "2022-03-09T17:48:12.012448Z",
     "start_time": "2022-03-09T17:48:11.994468Z"
    }
   },
   "outputs": [
    {
     "data": {
      "text/plain": [
       "(10683, 11)"
      ]
     },
     "execution_count": 6,
     "metadata": {},
     "output_type": "execute_result"
    }
   ],
   "source": [
    "# 数据形状\n",
    "df.shape"
   ]
  },
  {
   "cell_type": "code",
   "execution_count": 7,
   "metadata": {
    "ExecuteTime": {
     "end_time": "2022-03-09T17:48:38.631387Z",
     "start_time": "2022-03-09T17:48:38.614461Z"
    }
   },
   "outputs": [
    {
     "data": {
      "text/plain": [
       "Airline            0\n",
       "Date_of_Journey    0\n",
       "Source             0\n",
       "Destination        0\n",
       "Route              1\n",
       "Dep_Time           0\n",
       "Arrival_Time       0\n",
       "Duration           0\n",
       "Total_Stops        1\n",
       "Additional_Info    0\n",
       "Price              0\n",
       "dtype: int64"
      ]
     },
     "execution_count": 7,
     "metadata": {},
     "output_type": "execute_result"
    }
   ],
   "source": [
    "# 缺失值\n",
    "df.isnull().sum()"
   ]
  },
  {
   "cell_type": "code",
   "execution_count": 8,
   "metadata": {
    "ExecuteTime": {
     "end_time": "2022-03-09T17:48:49.835194Z",
     "start_time": "2022-03-09T17:48:49.819266Z"
    }
   },
   "outputs": [
    {
     "data": {
      "text/plain": [
       "Airline            object\n",
       "Date_of_Journey    object\n",
       "Source             object\n",
       "Destination        object\n",
       "Route              object\n",
       "Dep_Time           object\n",
       "Arrival_Time       object\n",
       "Duration           object\n",
       "Total_Stops        object\n",
       "Additional_Info    object\n",
       "Price               int64\n",
       "dtype: object"
      ]
     },
     "execution_count": 8,
     "metadata": {},
     "output_type": "execute_result"
    }
   ],
   "source": [
    "# 字段类型\n",
    "df.dtypes"
   ]
  },
  {
   "cell_type": "code",
   "execution_count": 9,
   "metadata": {
    "ExecuteTime": {
     "end_time": "2022-03-09T17:48:57.480888Z",
     "start_time": "2022-03-09T17:48:57.474905Z"
    }
   },
   "outputs": [
    {
     "data": {
      "text/plain": [
       "['Airline',\n",
       " 'Date_of_Journey',\n",
       " 'Source',\n",
       " 'Destination',\n",
       " 'Route',\n",
       " 'Dep_Time',\n",
       " 'Arrival_Time',\n",
       " 'Duration',\n",
       " 'Total_Stops',\n",
       " 'Additional_Info',\n",
       " 'Price']"
      ]
     },
     "execution_count": 9,
     "metadata": {},
     "output_type": "execute_result"
    }
   ],
   "source": [
    "# 全部字段\n",
    "columns = df.columns.tolist()\n",
    "columns"
   ]
  },
  {
   "cell_type": "markdown",
   "metadata": {},
   "source": [
    "Airline：不同类型的航空公司\n",
    "\n",
    "Date_of_Journey：旅客的旅行开始日期\n",
    "\n",
    "Source：旅客出发地\n",
    "\n",
    "Destination：旅客目的地\n",
    "\n",
    "Route：航班路线\n",
    "\n",
    "Dep_Time：出发时间\n",
    "\n",
    "Arrival_Time：抵达时间\n",
    "\n",
    "Duration：持续时间；指的是航班完成从出发到目的地的旅程的整个时间\n",
    "\n",
    "Total_Stops：总共停留地\n",
    "\n",
    "Additional_Info：其他信息，比如：食物、设备信息等\n",
    "\n",
    "Price：整个旅程的航班票价"
   ]
  },
  {
   "cell_type": "code",
   "execution_count": 10,
   "metadata": {
    "ExecuteTime": {
     "end_time": "2022-03-09T17:49:48.778887Z",
     "start_time": "2022-03-09T17:49:48.765412Z"
    }
   },
   "outputs": [
    {
     "name": "stdout",
     "output_type": "stream",
     "text": [
      "<class 'pandas.core.frame.DataFrame'>\n",
      "RangeIndex: 10683 entries, 0 to 10682\n",
      "Data columns (total 11 columns):\n",
      " #   Column           Non-Null Count  Dtype \n",
      "---  ------           --------------  ----- \n",
      " 0   Airline          10683 non-null  object\n",
      " 1   Date_of_Journey  10683 non-null  object\n",
      " 2   Source           10683 non-null  object\n",
      " 3   Destination      10683 non-null  object\n",
      " 4   Route            10682 non-null  object\n",
      " 5   Dep_Time         10683 non-null  object\n",
      " 6   Arrival_Time     10683 non-null  object\n",
      " 7   Duration         10683 non-null  object\n",
      " 8   Total_Stops      10682 non-null  object\n",
      " 9   Additional_Info  10683 non-null  object\n",
      " 10  Price            10683 non-null  int64 \n",
      "dtypes: int64(1), object(10)\n",
      "memory usage: 918.2+ KB\n"
     ]
    }
   ],
   "source": [
    "# 数据信息\n",
    "df.info()"
   ]
  },
  {
   "cell_type": "code",
   "execution_count": 11,
   "metadata": {
    "ExecuteTime": {
     "end_time": "2022-03-09T17:50:16.000969Z",
     "start_time": "2022-03-09T17:50:15.988973Z"
    }
   },
   "outputs": [
    {
     "data": {
      "text/html": [
       "<div>\n",
       "<style scoped>\n",
       "    .dataframe tbody tr th:only-of-type {\n",
       "        vertical-align: middle;\n",
       "    }\n",
       "\n",
       "    .dataframe tbody tr th {\n",
       "        vertical-align: top;\n",
       "    }\n",
       "\n",
       "    .dataframe thead th {\n",
       "        text-align: right;\n",
       "    }\n",
       "</style>\n",
       "<table border=\"1\" class=\"dataframe\">\n",
       "  <thead>\n",
       "    <tr style=\"text-align: right;\">\n",
       "      <th></th>\n",
       "      <th>Price</th>\n",
       "    </tr>\n",
       "  </thead>\n",
       "  <tbody>\n",
       "    <tr>\n",
       "      <th>count</th>\n",
       "      <td>10683.000000</td>\n",
       "    </tr>\n",
       "    <tr>\n",
       "      <th>mean</th>\n",
       "      <td>9087.064121</td>\n",
       "    </tr>\n",
       "    <tr>\n",
       "      <th>std</th>\n",
       "      <td>4611.359167</td>\n",
       "    </tr>\n",
       "    <tr>\n",
       "      <th>min</th>\n",
       "      <td>1759.000000</td>\n",
       "    </tr>\n",
       "    <tr>\n",
       "      <th>25%</th>\n",
       "      <td>5277.000000</td>\n",
       "    </tr>\n",
       "    <tr>\n",
       "      <th>50%</th>\n",
       "      <td>8372.000000</td>\n",
       "    </tr>\n",
       "    <tr>\n",
       "      <th>75%</th>\n",
       "      <td>12373.000000</td>\n",
       "    </tr>\n",
       "    <tr>\n",
       "      <th>max</th>\n",
       "      <td>79512.000000</td>\n",
       "    </tr>\n",
       "  </tbody>\n",
       "</table>\n",
       "</div>"
      ],
      "text/plain": [
       "              Price\n",
       "count  10683.000000\n",
       "mean    9087.064121\n",
       "std     4611.359167\n",
       "min     1759.000000\n",
       "25%     5277.000000\n",
       "50%     8372.000000\n",
       "75%    12373.000000\n",
       "max    79512.000000"
      ]
     },
     "execution_count": 11,
     "metadata": {},
     "output_type": "execute_result"
    }
   ],
   "source": [
    "# 价格price的信息\n",
    "df.describe()"
   ]
  },
  {
   "cell_type": "markdown",
   "metadata": {},
   "source": [
    "## 缺失值处理"
   ]
  },
  {
   "cell_type": "code",
   "execution_count": 12,
   "metadata": {
    "ExecuteTime": {
     "end_time": "2022-03-09T17:52:18.009663Z",
     "start_time": "2022-03-09T17:52:17.588789Z"
    }
   },
   "outputs": [
    {
     "data": {
      "image/png": "[encoded data removed]",
      "text/plain": [
       "<Figure size 1800x720 with 3 Axes>"
      ]
     },
     "metadata": {
      "needs_background": "light"
     },
     "output_type": "display_data"
    }
   ],
   "source": [
    "import missingno as mso#missingno是一个可视化缺失值的库，方便使用\n",
    "mso.bar(df,color=\"blue\")\n",
    "plt.show()"
   ]
  },
  {
   "cell_type": "markdown",
   "metadata": {},
   "source": [
    "## 缺失值删除\n",
    "正常的字段是10683条，其中两个字段是10682条；缺失值的占比很小，考虑直接删除的数据"
   ]
  },
  {
   "cell_type": "code",
   "execution_count": 13,
   "metadata": {
    "ExecuteTime": {
     "end_time": "2022-03-09T17:53:12.709486Z",
     "start_time": "2022-03-09T17:53:12.698544Z"
    }
   },
   "outputs": [],
   "source": [
    "df.dropna(inplace=True)"
   ]
  },
  {
   "cell_type": "code",
   "execution_count": 14,
   "metadata": {
    "ExecuteTime": {
     "end_time": "2022-03-09T17:53:28.575678Z",
     "start_time": "2022-03-09T17:53:28.557696Z"
    }
   },
   "outputs": [
    {
     "data": {
      "text/plain": [
       "Airline            0\n",
       "Date_of_Journey    0\n",
       "Source             0\n",
       "Destination        0\n",
       "Route              0\n",
       "Dep_Time           0\n",
       "Arrival_Time       0\n",
       "Duration           0\n",
       "Total_Stops        0\n",
       "Additional_Info    0\n",
       "Price              0\n",
       "dtype: int64"
      ]
     },
     "execution_count": 14,
     "metadata": {},
     "output_type": "execute_result"
    }
   ],
   "source": [
    "df.isnull().sum()"
   ]
  },
  {
   "cell_type": "markdown",
   "metadata": {},
   "source": [
    "## 时间相关字段处理\n",
    "### 时间处理\n",
    "通过pd.to_datetime()直接将字符型的数据转成时间类型的数据\n",
    "\n",
    "通过dt.day或者df.month 直接获取天或者月的信息"
   ]
  },
  {
   "cell_type": "code",
   "execution_count": 15,
   "metadata": {
    "ExecuteTime": {
     "end_time": "2022-03-09T17:54:10.822889Z",
     "start_time": "2022-03-09T17:54:10.813886Z"
    }
   },
   "outputs": [],
   "source": [
    "# 将字段类型转成时间相关类型\n",
    "\n",
    "def change_to_datetime(col):\n",
    "    df[col] = pd.to_datetime(df[col])"
   ]
  },
  {
   "cell_type": "code",
   "execution_count": 16,
   "metadata": {
    "ExecuteTime": {
     "end_time": "2022-03-09T17:54:20.988118Z",
     "start_time": "2022-03-09T17:54:20.883360Z"
    }
   },
   "outputs": [],
   "source": [
    "# 3个字段的转换\n",
    "\n",
    "for col in ['Date_of_Journey','Dep_Time', 'Arrival_Time']:\n",
    "    change_to_datetime(col)"
   ]
  },
  {
   "cell_type": "code",
   "execution_count": 17,
   "metadata": {
    "ExecuteTime": {
     "end_time": "2022-03-09T17:54:26.126546Z",
     "start_time": "2022-03-09T17:54:26.106571Z"
    }
   },
   "outputs": [
    {
     "data": {
      "text/plain": [
       "Airline                    object\n",
       "Date_of_Journey    datetime64[ns]\n",
       "Source                     object\n",
       "Destination                object\n",
       "Route                      object\n",
       "Dep_Time           datetime64[ns]\n",
       "Arrival_Time       datetime64[ns]\n",
       "Duration                   object\n",
       "Total_Stops                object\n",
       "Additional_Info            object\n",
       "Price                       int64\n",
       "dtype: object"
      ]
     },
     "execution_count": 17,
     "metadata": {},
     "output_type": "execute_result"
    }
   ],
   "source": [
    "df.dtypes"
   ]
  },
  {
   "cell_type": "markdown",
   "metadata": {},
   "source": [
    "## 提取天和月\n",
    "乘客旅程日期中（Date_of_Journey）单独提取天和月，作为两个字段"
   ]
  },
  {
   "cell_type": "code",
   "execution_count": 18,
   "metadata": {
    "ExecuteTime": {
     "end_time": "2022-03-09T17:54:52.897380Z",
     "start_time": "2022-03-09T17:54:52.877433Z"
    }
   },
   "outputs": [
    {
     "data": {
      "text/html": [
       "<div>\n",
       "<style scoped>\n",
       "    .dataframe tbody tr th:only-of-type {\n",
       "        vertical-align: middle;\n",
       "    }\n",
       "\n",
       "    .dataframe tbody tr th {\n",
       "        vertical-align: top;\n",
       "    }\n",
       "\n",
       "    .dataframe thead th {\n",
       "        text-align: right;\n",
       "    }\n",
       "</style>\n",
       "<table border=\"1\" class=\"dataframe\">\n",
       "  <thead>\n",
       "    <tr style=\"text-align: right;\">\n",
       "      <th></th>\n",
       "      <th>Airline</th>\n",
       "      <th>Date_of_Journey</th>\n",
       "      <th>Source</th>\n",
       "      <th>Destination</th>\n",
       "      <th>Route</th>\n",
       "      <th>Dep_Time</th>\n",
       "      <th>Arrival_Time</th>\n",
       "      <th>Duration</th>\n",
       "      <th>Total_Stops</th>\n",
       "      <th>Additional_Info</th>\n",
       "      <th>Price</th>\n",
       "      <th>day</th>\n",
       "      <th>month</th>\n",
       "    </tr>\n",
       "  </thead>\n",
       "  <tbody>\n",
       "    <tr>\n",
       "      <th>0</th>\n",
       "      <td>IndiGo</td>\n",
       "      <td>2019-03-24</td>\n",
       "      <td>Banglore</td>\n",
       "      <td>New Delhi</td>\n",
       "      <td>BLR → DEL</td>\n",
       "      <td>2022-03-10 22:20:00</td>\n",
       "      <td>2022-03-22 01:10:00</td>\n",
       "      <td>2h 50m</td>\n",
       "      <td>non-stop</td>\n",
       "      <td>No info</td>\n",
       "      <td>3897</td>\n",
       "      <td>24</td>\n",
       "      <td>3</td>\n",
       "    </tr>\n",
       "    <tr>\n",
       "      <th>1</th>\n",
       "      <td>Air India</td>\n",
       "      <td>2019-01-05</td>\n",
       "      <td>Kolkata</td>\n",
       "      <td>Banglore</td>\n",
       "      <td>CCU → IXR → BBI → BLR</td>\n",
       "      <td>2022-03-10 05:50:00</td>\n",
       "      <td>2022-03-10 13:15:00</td>\n",
       "      <td>7h 25m</td>\n",
       "      <td>2 stops</td>\n",
       "      <td>No info</td>\n",
       "      <td>7662</td>\n",
       "      <td>5</td>\n",
       "      <td>1</td>\n",
       "    </tr>\n",
       "    <tr>\n",
       "      <th>2</th>\n",
       "      <td>Jet Airways</td>\n",
       "      <td>2019-09-06</td>\n",
       "      <td>Delhi</td>\n",
       "      <td>Cochin</td>\n",
       "      <td>DEL → LKO → BOM → COK</td>\n",
       "      <td>2022-03-10 09:25:00</td>\n",
       "      <td>2022-06-10 04:25:00</td>\n",
       "      <td>19h</td>\n",
       "      <td>2 stops</td>\n",
       "      <td>No info</td>\n",
       "      <td>13882</td>\n",
       "      <td>6</td>\n",
       "      <td>9</td>\n",
       "    </tr>\n",
       "    <tr>\n",
       "      <th>3</th>\n",
       "      <td>IndiGo</td>\n",
       "      <td>2019-12-05</td>\n",
       "      <td>Kolkata</td>\n",
       "      <td>Banglore</td>\n",
       "      <td>CCU → NAG → BLR</td>\n",
       "      <td>2022-03-10 18:05:00</td>\n",
       "      <td>2022-03-10 23:30:00</td>\n",
       "      <td>5h 25m</td>\n",
       "      <td>1 stop</td>\n",
       "      <td>No info</td>\n",
       "      <td>6218</td>\n",
       "      <td>5</td>\n",
       "      <td>12</td>\n",
       "    </tr>\n",
       "    <tr>\n",
       "      <th>4</th>\n",
       "      <td>IndiGo</td>\n",
       "      <td>2019-01-03</td>\n",
       "      <td>Banglore</td>\n",
       "      <td>New Delhi</td>\n",
       "      <td>BLR → NAG → DEL</td>\n",
       "      <td>2022-03-10 16:50:00</td>\n",
       "      <td>2022-03-10 21:35:00</td>\n",
       "      <td>4h 45m</td>\n",
       "      <td>1 stop</td>\n",
       "      <td>No info</td>\n",
       "      <td>13302</td>\n",
       "      <td>3</td>\n",
       "      <td>1</td>\n",
       "    </tr>\n",
       "  </tbody>\n",
       "</table>\n",
       "</div>"
      ],
      "text/plain": [
       "       Airline Date_of_Journey    Source Destination                  Route  \\\n",
       "0       IndiGo      2019-03-24  Banglore   New Delhi              BLR → DEL   \n",
       "1    Air India      2019-01-05   Kolkata    Banglore  CCU → IXR → BBI → BLR   \n",
       "2  Jet Airways      2019-09-06     Delhi      Cochin  DEL → LKO → BOM → COK   \n",
       "3       IndiGo      2019-12-05   Kolkata    Banglore        CCU → NAG → BLR   \n",
       "4       IndiGo      2019-01-03  Banglore   New Delhi        BLR → NAG → DEL   \n",
       "\n",
       "             Dep_Time        Arrival_Time Duration Total_Stops  \\\n",
       "0 2022-03-10 22:20:00 2022-03-22 01:10:00   2h 50m    non-stop   \n",
       "1 2022-03-10 05:50:00 2022-03-10 13:15:00   7h 25m     2 stops   \n",
       "2 2022-03-10 09:25:00 2022-06-10 04:25:00      19h     2 stops   \n",
       "3 2022-03-10 18:05:00 2022-03-10 23:30:00   5h 25m      1 stop   \n",
       "4 2022-03-10 16:50:00 2022-03-10 21:35:00   4h 45m      1 stop   \n",
       "\n",
       "  Additional_Info  Price  day  month  \n",
       "0         No info   3897   24      3  \n",
       "1         No info   7662    5      1  \n",
       "2         No info  13882    6      9  \n",
       "3         No info   6218    5     12  \n",
       "4         No info  13302    3      1  "
      ]
     },
     "execution_count": 18,
     "metadata": {},
     "output_type": "execute_result"
    }
   ],
   "source": [
    "df[\"day\"] = df[\"Date_of_Journey\"].dt.day\n",
    "df[\"month\"] = df[\"Date_of_Journey\"].dt.month\n",
    "df.head()"
   ]
  },
  {
   "cell_type": "code",
   "execution_count": 19,
   "metadata": {
    "ExecuteTime": {
     "end_time": "2022-03-09T17:55:01.243353Z",
     "start_time": "2022-03-09T17:55:01.230392Z"
    }
   },
   "outputs": [],
   "source": [
    "# 删除字段\n",
    "df.drop('Date_of_Journey', axis=1, inplace=True)"
   ]
  },
  {
   "cell_type": "markdown",
   "metadata": {},
   "source": [
    "## 起飞时间和抵达时间处理\n",
    "\n",
    "主要提取两个时间中的“小时”和“分钟”信息；同时删除原字段："
   ]
  },
  {
   "cell_type": "code",
   "execution_count": 24,
   "metadata": {
    "ExecuteTime": {
     "end_time": "2022-03-09T17:58:22.164433Z",
     "start_time": "2022-03-09T17:58:22.153463Z"
    }
   },
   "outputs": [],
   "source": [
    "# 提取小时和分钟\n",
    "\n",
    "def extract_hour(data,col):\n",
    "    data[col+'_hour']=data[col].dt.hour\n",
    "    \n",
    "def extract_min(data,col):\n",
    "    data[col+'_min']=data[col].dt.minute\n",
    "    \n",
    "\n",
    "def drop_col(data,col):\n",
    "    data.drop(col,axis=1,inplace=True)"
   ]
  },
  {
   "cell_type": "markdown",
   "metadata": {},
   "source": [
    "分别调用函数来提取信息："
   ]
  },
  {
   "cell_type": "code",
   "execution_count": 26,
   "metadata": {
    "ExecuteTime": {
     "end_time": "2022-03-09T17:58:56.848328Z",
     "start_time": "2022-03-09T17:58:56.839352Z"
    }
   },
   "outputs": [],
   "source": [
    "extract_hour(df,'Dep_Time')\n",
    "extract_min(df,'Dep_Time')\n",
    "drop_col(df,'Dep_Time')  # 删除原字段"
   ]
  },
  {
   "cell_type": "code",
   "execution_count": 28,
   "metadata": {
    "ExecuteTime": {
     "end_time": "2022-03-09T17:59:34.474509Z",
     "start_time": "2022-03-09T17:59:34.465534Z"
    }
   },
   "outputs": [],
   "source": [
    "extract_hour(df,'Arrival_Time')\n",
    "extract_min(df,'Arrival_Time')\n",
    "drop_col(df,'Arrival_Time')"
   ]
  },
  {
   "cell_type": "code",
   "execution_count": 29,
   "metadata": {
    "ExecuteTime": {
     "end_time": "2022-03-09T17:59:39.939685Z",
     "start_time": "2022-03-09T17:59:39.925694Z"
    },
    "scrolled": true
   },
   "outputs": [
    {
     "data": {
      "text/html": [
       "<div>\n",
       "<style scoped>\n",
       "    .dataframe tbody tr th:only-of-type {\n",
       "        vertical-align: middle;\n",
       "    }\n",
       "\n",
       "    .dataframe tbody tr th {\n",
       "        vertical-align: top;\n",
       "    }\n",
       "\n",
       "    .dataframe thead th {\n",
       "        text-align: right;\n",
       "    }\n",
       "</style>\n",
       "<table border=\"1\" class=\"dataframe\">\n",
       "  <thead>\n",
       "    <tr style=\"text-align: right;\">\n",
       "      <th></th>\n",
       "      <th>Airline</th>\n",
       "      <th>Source</th>\n",
       "      <th>Destination</th>\n",
       "      <th>Route</th>\n",
       "      <th>Duration</th>\n",
       "      <th>Total_Stops</th>\n",
       "      <th>Additional_Info</th>\n",
       "      <th>Price</th>\n",
       "      <th>day</th>\n",
       "      <th>month</th>\n",
       "      <th>Dep_Time_hour</th>\n",
       "      <th>Arrival_Time_hour</th>\n",
       "      <th>Dep_Time_min</th>\n",
       "      <th>Arrival_Time_min</th>\n",
       "    </tr>\n",
       "  </thead>\n",
       "  <tbody>\n",
       "    <tr>\n",
       "      <th>0</th>\n",
       "      <td>IndiGo</td>\n",
       "      <td>Banglore</td>\n",
       "      <td>New Delhi</td>\n",
       "      <td>BLR → DEL</td>\n",
       "      <td>2h 50m</td>\n",
       "      <td>non-stop</td>\n",
       "      <td>No info</td>\n",
       "      <td>3897</td>\n",
       "      <td>24</td>\n",
       "      <td>3</td>\n",
       "      <td>22</td>\n",
       "      <td>1</td>\n",
       "      <td>20</td>\n",
       "      <td>10</td>\n",
       "    </tr>\n",
       "    <tr>\n",
       "      <th>1</th>\n",
       "      <td>Air India</td>\n",
       "      <td>Kolkata</td>\n",
       "      <td>Banglore</td>\n",
       "      <td>CCU → IXR → BBI → BLR</td>\n",
       "      <td>7h 25m</td>\n",
       "      <td>2 stops</td>\n",
       "      <td>No info</td>\n",
       "      <td>7662</td>\n",
       "      <td>5</td>\n",
       "      <td>1</td>\n",
       "      <td>5</td>\n",
       "      <td>13</td>\n",
       "      <td>50</td>\n",
       "      <td>15</td>\n",
       "    </tr>\n",
       "    <tr>\n",
       "      <th>2</th>\n",
       "      <td>Jet Airways</td>\n",
       "      <td>Delhi</td>\n",
       "      <td>Cochin</td>\n",
       "      <td>DEL → LKO → BOM → COK</td>\n",
       "      <td>19h</td>\n",
       "      <td>2 stops</td>\n",
       "      <td>No info</td>\n",
       "      <td>13882</td>\n",
       "      <td>6</td>\n",
       "      <td>9</td>\n",
       "      <td>9</td>\n",
       "      <td>4</td>\n",
       "      <td>25</td>\n",
       "      <td>25</td>\n",
       "    </tr>\n",
       "    <tr>\n",
       "      <th>3</th>\n",
       "      <td>IndiGo</td>\n",
       "      <td>Kolkata</td>\n",
       "      <td>Banglore</td>\n",
       "      <td>CCU → NAG → BLR</td>\n",
       "      <td>5h 25m</td>\n",
       "      <td>1 stop</td>\n",
       "      <td>No info</td>\n",
       "      <td>6218</td>\n",
       "      <td>5</td>\n",
       "      <td>12</td>\n",
       "      <td>18</td>\n",
       "      <td>23</td>\n",
       "      <td>5</td>\n",
       "      <td>30</td>\n",
       "    </tr>\n",
       "    <tr>\n",
       "      <th>4</th>\n",
       "      <td>IndiGo</td>\n",
       "      <td>Banglore</td>\n",
       "      <td>New Delhi</td>\n",
       "      <td>BLR → NAG → DEL</td>\n",
       "      <td>4h 45m</td>\n",
       "      <td>1 stop</td>\n",
       "      <td>No info</td>\n",
       "      <td>13302</td>\n",
       "      <td>3</td>\n",
       "      <td>1</td>\n",
       "      <td>16</td>\n",
       "      <td>21</td>\n",
       "      <td>50</td>\n",
       "      <td>35</td>\n",
       "    </tr>\n",
       "  </tbody>\n",
       "</table>\n",
       "</div>"
      ],
      "text/plain": [
       "       Airline    Source Destination                  Route Duration  \\\n",
       "0       IndiGo  Banglore   New Delhi              BLR → DEL   2h 50m   \n",
       "1    Air India   Kolkata    Banglore  CCU → IXR → BBI → BLR   7h 25m   \n",
       "2  Jet Airways     Delhi      Cochin  DEL → LKO → BOM → COK      19h   \n",
       "3       IndiGo   Kolkata    Banglore        CCU → NAG → BLR   5h 25m   \n",
       "4       IndiGo  Banglore   New Delhi        BLR → NAG → DEL   4h 45m   \n",
       "\n",
       "  Total_Stops Additional_Info  Price  day  month  Dep_Time_hour  \\\n",
       "0    non-stop         No info   3897   24      3             22   \n",
       "1     2 stops         No info   7662    5      1              5   \n",
       "2     2 stops         No info  13882    6      9              9   \n",
       "3      1 stop         No info   6218    5     12             18   \n",
       "4      1 stop         No info  13302    3      1             16   \n",
       "\n",
       "   Arrival_Time_hour  Dep_Time_min  Arrival_Time_min  \n",
       "0                  1            20                10  \n",
       "1                 13            50                15  \n",
       "2                  4            25                25  \n",
       "3                 23             5                30  \n",
       "4                 21            50                35  "
      ]
     },
     "execution_count": 29,
     "metadata": {},
     "output_type": "execute_result"
    }
   ],
   "source": [
    "df.head()"
   ]
  },
  {
   "cell_type": "markdown",
   "metadata": {
    "ExecuteTime": {
     "end_time": "2022-03-09T18:00:53.970252Z",
     "start_time": "2022-03-09T18:00:53.953298Z"
    }
   },
   "source": [
    "航班持续时间duration\n",
    "\n",
    "1、将持续时间规范化处理，统一变成0h 1m\n",
    "\n",
    "让我们对持续时间列应用预处理，将持续时间小时和分钟与持续时间分开"
   ]
  },
  {
   "cell_type": "code",
   "execution_count": 33,
   "metadata": {
    "ExecuteTime": {
     "end_time": "2022-03-11T13:06:47.887224Z",
     "start_time": "2022-03-11T13:06:47.865282Z"
    }
   },
   "outputs": [],
   "source": [
    "duration=list(df['Duration'])\n",
    "for i in range(len(duration)):\n",
    "    if len(duration[i].split(' '))==2:\n",
    "        pass\n",
    "    else:\n",
    "        if 'h' in duration[i]: # Check if duration contains only hour\n",
    "             duration[i]=duration[i] + ' 0m' # Adds 0 minute\n",
    "        else:\n",
    "             duration[i]='0h '+ duration[i]"
   ]
  },
  {
   "cell_type": "code",
   "execution_count": 34,
   "metadata": {
    "ExecuteTime": {
     "end_time": "2022-03-11T13:06:54.280412Z",
     "start_time": "2022-03-11T13:06:54.269412Z"
    }
   },
   "outputs": [],
   "source": [
    "df['Duration']=duration"
   ]
  },
  {
   "cell_type": "code",
   "execution_count": 35,
   "metadata": {
    "ExecuteTime": {
     "end_time": "2022-03-11T13:06:57.963179Z",
     "start_time": "2022-03-11T13:06:57.945199Z"
    },
    "scrolled": true
   },
   "outputs": [
    {
     "data": {
      "text/html": [
       "<div>\n",
       "<style scoped>\n",
       "    .dataframe tbody tr th:only-of-type {\n",
       "        vertical-align: middle;\n",
       "    }\n",
       "\n",
       "    .dataframe tbody tr th {\n",
       "        vertical-align: top;\n",
       "    }\n",
       "\n",
       "    .dataframe thead th {\n",
       "        text-align: right;\n",
       "    }\n",
       "</style>\n",
       "<table border=\"1\" class=\"dataframe\">\n",
       "  <thead>\n",
       "    <tr style=\"text-align: right;\">\n",
       "      <th></th>\n",
       "      <th>Airline</th>\n",
       "      <th>Source</th>\n",
       "      <th>Destination</th>\n",
       "      <th>Route</th>\n",
       "      <th>Duration</th>\n",
       "      <th>Total_Stops</th>\n",
       "      <th>Additional_Info</th>\n",
       "      <th>Price</th>\n",
       "      <th>day</th>\n",
       "      <th>month</th>\n",
       "      <th>Dep_Time_hour</th>\n",
       "      <th>Arrival_Time_hour</th>\n",
       "      <th>Dep_Time_min</th>\n",
       "      <th>Arrival_Time_min</th>\n",
       "    </tr>\n",
       "  </thead>\n",
       "  <tbody>\n",
       "    <tr>\n",
       "      <th>0</th>\n",
       "      <td>IndiGo</td>\n",
       "      <td>Banglore</td>\n",
       "      <td>New Delhi</td>\n",
       "      <td>BLR → DEL</td>\n",
       "      <td>2h 50m</td>\n",
       "      <td>non-stop</td>\n",
       "      <td>No info</td>\n",
       "      <td>3897</td>\n",
       "      <td>24</td>\n",
       "      <td>3</td>\n",
       "      <td>22</td>\n",
       "      <td>1</td>\n",
       "      <td>20</td>\n",
       "      <td>10</td>\n",
       "    </tr>\n",
       "    <tr>\n",
       "      <th>1</th>\n",
       "      <td>Air India</td>\n",
       "      <td>Kolkata</td>\n",
       "      <td>Banglore</td>\n",
       "      <td>CCU → IXR → BBI → BLR</td>\n",
       "      <td>7h 25m</td>\n",
       "      <td>2 stops</td>\n",
       "      <td>No info</td>\n",
       "      <td>7662</td>\n",
       "      <td>5</td>\n",
       "      <td>1</td>\n",
       "      <td>5</td>\n",
       "      <td>13</td>\n",
       "      <td>50</td>\n",
       "      <td>15</td>\n",
       "    </tr>\n",
       "    <tr>\n",
       "      <th>2</th>\n",
       "      <td>Jet Airways</td>\n",
       "      <td>Delhi</td>\n",
       "      <td>Cochin</td>\n",
       "      <td>DEL → LKO → BOM → COK</td>\n",
       "      <td>19h 0m</td>\n",
       "      <td>2 stops</td>\n",
       "      <td>No info</td>\n",
       "      <td>13882</td>\n",
       "      <td>6</td>\n",
       "      <td>9</td>\n",
       "      <td>9</td>\n",
       "      <td>4</td>\n",
       "      <td>25</td>\n",
       "      <td>25</td>\n",
       "    </tr>\n",
       "    <tr>\n",
       "      <th>3</th>\n",
       "      <td>IndiGo</td>\n",
       "      <td>Kolkata</td>\n",
       "      <td>Banglore</td>\n",
       "      <td>CCU → NAG → BLR</td>\n",
       "      <td>5h 25m</td>\n",
       "      <td>1 stop</td>\n",
       "      <td>No info</td>\n",
       "      <td>6218</td>\n",
       "      <td>5</td>\n",
       "      <td>12</td>\n",
       "      <td>18</td>\n",
       "      <td>23</td>\n",
       "      <td>5</td>\n",
       "      <td>30</td>\n",
       "    </tr>\n",
       "    <tr>\n",
       "      <th>4</th>\n",
       "      <td>IndiGo</td>\n",
       "      <td>Banglore</td>\n",
       "      <td>New Delhi</td>\n",
       "      <td>BLR → NAG → DEL</td>\n",
       "      <td>4h 45m</td>\n",
       "      <td>1 stop</td>\n",
       "      <td>No info</td>\n",
       "      <td>13302</td>\n",
       "      <td>3</td>\n",
       "      <td>1</td>\n",
       "      <td>16</td>\n",
       "      <td>21</td>\n",
       "      <td>50</td>\n",
       "      <td>35</td>\n",
       "    </tr>\n",
       "  </tbody>\n",
       "</table>\n",
       "</div>"
      ],
      "text/plain": [
       "       Airline    Source Destination                  Route Duration  \\\n",
       "0       IndiGo  Banglore   New Delhi              BLR → DEL   2h 50m   \n",
       "1    Air India   Kolkata    Banglore  CCU → IXR → BBI → BLR   7h 25m   \n",
       "2  Jet Airways     Delhi      Cochin  DEL → LKO → BOM → COK   19h 0m   \n",
       "3       IndiGo   Kolkata    Banglore        CCU → NAG → BLR   5h 25m   \n",
       "4       IndiGo  Banglore   New Delhi        BLR → NAG → DEL   4h 45m   \n",
       "\n",
       "  Total_Stops Additional_Info  Price  day  month  Dep_Time_hour  \\\n",
       "0    non-stop         No info   3897   24      3             22   \n",
       "1     2 stops         No info   7662    5      1              5   \n",
       "2     2 stops         No info  13882    6      9              9   \n",
       "3      1 stop         No info   6218    5     12             18   \n",
       "4      1 stop         No info  13302    3      1             16   \n",
       "\n",
       "   Arrival_Time_hour  Dep_Time_min  Arrival_Time_min  \n",
       "0                  1            20                10  \n",
       "1                 13            50                15  \n",
       "2                  4            25                25  \n",
       "3                 23             5                30  \n",
       "4                 21            50                35  "
      ]
     },
     "execution_count": 35,
     "metadata": {},
     "output_type": "execute_result"
    }
   ],
   "source": [
    "df.head()"
   ]
  },
  {
   "cell_type": "code",
   "execution_count": 37,
   "metadata": {
    "ExecuteTime": {
     "end_time": "2022-03-11T13:07:41.973228Z",
     "start_time": "2022-03-11T13:07:41.969239Z"
    }
   },
   "outputs": [],
   "source": [
    "def hour(x):\n",
    "    return x.split(' ')[0][0:-1]\n",
    "\n",
    "def minutes(x):\n",
    "    return x.split(' ')[1][0:-1]"
   ]
  },
  {
   "cell_type": "code",
   "execution_count": 38,
   "metadata": {
    "ExecuteTime": {
     "end_time": "2022-03-11T13:08:40.432624Z",
     "start_time": "2022-03-11T13:08:40.418661Z"
    }
   },
   "outputs": [],
   "source": [
    "df['dur_hour']=df['Duration'].apply(hour)"
   ]
  },
  {
   "cell_type": "code",
   "execution_count": 39,
   "metadata": {
    "ExecuteTime": {
     "end_time": "2022-03-11T13:08:44.666572Z",
     "start_time": "2022-03-11T13:08:44.644659Z"
    }
   },
   "outputs": [],
   "source": [
    "df['dur_min']=df['Duration'].apply(minutes)"
   ]
  },
  {
   "cell_type": "code",
   "execution_count": 40,
   "metadata": {
    "ExecuteTime": {
     "end_time": "2022-03-11T13:09:48.132846Z",
     "start_time": "2022-03-11T13:09:48.115891Z"
    },
    "scrolled": true
   },
   "outputs": [
    {
     "data": {
      "text/html": [
       "<div>\n",
       "<style scoped>\n",
       "    .dataframe tbody tr th:only-of-type {\n",
       "        vertical-align: middle;\n",
       "    }\n",
       "\n",
       "    .dataframe tbody tr th {\n",
       "        vertical-align: top;\n",
       "    }\n",
       "\n",
       "    .dataframe thead th {\n",
       "        text-align: right;\n",
       "    }\n",
       "</style>\n",
       "<table border=\"1\" class=\"dataframe\">\n",
       "  <thead>\n",
       "    <tr style=\"text-align: right;\">\n",
       "      <th></th>\n",
       "      <th>Airline</th>\n",
       "      <th>Source</th>\n",
       "      <th>Destination</th>\n",
       "      <th>Route</th>\n",
       "      <th>Duration</th>\n",
       "      <th>Total_Stops</th>\n",
       "      <th>Additional_Info</th>\n",
       "      <th>Price</th>\n",
       "      <th>day</th>\n",
       "      <th>month</th>\n",
       "      <th>Dep_Time_hour</th>\n",
       "      <th>Arrival_Time_hour</th>\n",
       "      <th>Dep_Time_min</th>\n",
       "      <th>Arrival_Time_min</th>\n",
       "      <th>dur_hour</th>\n",
       "      <th>dur_min</th>\n",
       "    </tr>\n",
       "  </thead>\n",
       "  <tbody>\n",
       "    <tr>\n",
       "      <th>0</th>\n",
       "      <td>IndiGo</td>\n",
       "      <td>Banglore</td>\n",
       "      <td>New Delhi</td>\n",
       "      <td>BLR → DEL</td>\n",
       "      <td>2h 50m</td>\n",
       "      <td>non-stop</td>\n",
       "      <td>No info</td>\n",
       "      <td>3897</td>\n",
       "      <td>24</td>\n",
       "      <td>3</td>\n",
       "      <td>22</td>\n",
       "      <td>1</td>\n",
       "      <td>20</td>\n",
       "      <td>10</td>\n",
       "      <td>2</td>\n",
       "      <td>50</td>\n",
       "    </tr>\n",
       "    <tr>\n",
       "      <th>1</th>\n",
       "      <td>Air India</td>\n",
       "      <td>Kolkata</td>\n",
       "      <td>Banglore</td>\n",
       "      <td>CCU → IXR → BBI → BLR</td>\n",
       "      <td>7h 25m</td>\n",
       "      <td>2 stops</td>\n",
       "      <td>No info</td>\n",
       "      <td>7662</td>\n",
       "      <td>5</td>\n",
       "      <td>1</td>\n",
       "      <td>5</td>\n",
       "      <td>13</td>\n",
       "      <td>50</td>\n",
       "      <td>15</td>\n",
       "      <td>7</td>\n",
       "      <td>25</td>\n",
       "    </tr>\n",
       "    <tr>\n",
       "      <th>2</th>\n",
       "      <td>Jet Airways</td>\n",
       "      <td>Delhi</td>\n",
       "      <td>Cochin</td>\n",
       "      <td>DEL → LKO → BOM → COK</td>\n",
       "      <td>19h 0m</td>\n",
       "      <td>2 stops</td>\n",
       "      <td>No info</td>\n",
       "      <td>13882</td>\n",
       "      <td>6</td>\n",
       "      <td>9</td>\n",
       "      <td>9</td>\n",
       "      <td>4</td>\n",
       "      <td>25</td>\n",
       "      <td>25</td>\n",
       "      <td>19</td>\n",
       "      <td>0</td>\n",
       "    </tr>\n",
       "    <tr>\n",
       "      <th>3</th>\n",
       "      <td>IndiGo</td>\n",
       "      <td>Kolkata</td>\n",
       "      <td>Banglore</td>\n",
       "      <td>CCU → NAG → BLR</td>\n",
       "      <td>5h 25m</td>\n",
       "      <td>1 stop</td>\n",
       "      <td>No info</td>\n",
       "      <td>6218</td>\n",
       "      <td>5</td>\n",
       "      <td>12</td>\n",
       "      <td>18</td>\n",
       "      <td>23</td>\n",
       "      <td>5</td>\n",
       "      <td>30</td>\n",
       "      <td>5</td>\n",
       "      <td>25</td>\n",
       "    </tr>\n",
       "    <tr>\n",
       "      <th>4</th>\n",
       "      <td>IndiGo</td>\n",
       "      <td>Banglore</td>\n",
       "      <td>New Delhi</td>\n",
       "      <td>BLR → NAG → DEL</td>\n",
       "      <td>4h 45m</td>\n",
       "      <td>1 stop</td>\n",
       "      <td>No info</td>\n",
       "      <td>13302</td>\n",
       "      <td>3</td>\n",
       "      <td>1</td>\n",
       "      <td>16</td>\n",
       "      <td>21</td>\n",
       "      <td>50</td>\n",
       "      <td>35</td>\n",
       "      <td>4</td>\n",
       "      <td>45</td>\n",
       "    </tr>\n",
       "    <tr>\n",
       "      <th>5</th>\n",
       "      <td>SpiceJet</td>\n",
       "      <td>Kolkata</td>\n",
       "      <td>Banglore</td>\n",
       "      <td>CCU → BLR</td>\n",
       "      <td>2h 25m</td>\n",
       "      <td>non-stop</td>\n",
       "      <td>No info</td>\n",
       "      <td>3873</td>\n",
       "      <td>24</td>\n",
       "      <td>6</td>\n",
       "      <td>9</td>\n",
       "      <td>11</td>\n",
       "      <td>0</td>\n",
       "      <td>25</td>\n",
       "      <td>2</td>\n",
       "      <td>25</td>\n",
       "    </tr>\n",
       "    <tr>\n",
       "      <th>6</th>\n",
       "      <td>Jet Airways</td>\n",
       "      <td>Banglore</td>\n",
       "      <td>New Delhi</td>\n",
       "      <td>BLR → BOM → DEL</td>\n",
       "      <td>15h 30m</td>\n",
       "      <td>1 stop</td>\n",
       "      <td>In-flight meal not included</td>\n",
       "      <td>11087</td>\n",
       "      <td>3</td>\n",
       "      <td>12</td>\n",
       "      <td>18</td>\n",
       "      <td>10</td>\n",
       "      <td>55</td>\n",
       "      <td>25</td>\n",
       "      <td>15</td>\n",
       "      <td>30</td>\n",
       "    </tr>\n",
       "    <tr>\n",
       "      <th>7</th>\n",
       "      <td>Jet Airways</td>\n",
       "      <td>Banglore</td>\n",
       "      <td>New Delhi</td>\n",
       "      <td>BLR → BOM → DEL</td>\n",
       "      <td>21h 5m</td>\n",
       "      <td>1 stop</td>\n",
       "      <td>No info</td>\n",
       "      <td>22270</td>\n",
       "      <td>3</td>\n",
       "      <td>1</td>\n",
       "      <td>8</td>\n",
       "      <td>5</td>\n",
       "      <td>0</td>\n",
       "      <td>5</td>\n",
       "      <td>21</td>\n",
       "      <td>5</td>\n",
       "    </tr>\n",
       "    <tr>\n",
       "      <th>8</th>\n",
       "      <td>Jet Airways</td>\n",
       "      <td>Banglore</td>\n",
       "      <td>New Delhi</td>\n",
       "      <td>BLR → BOM → DEL</td>\n",
       "      <td>25h 30m</td>\n",
       "      <td>1 stop</td>\n",
       "      <td>In-flight meal not included</td>\n",
       "      <td>11087</td>\n",
       "      <td>3</td>\n",
       "      <td>12</td>\n",
       "      <td>8</td>\n",
       "      <td>10</td>\n",
       "      <td>55</td>\n",
       "      <td>25</td>\n",
       "      <td>25</td>\n",
       "      <td>30</td>\n",
       "    </tr>\n",
       "    <tr>\n",
       "      <th>9</th>\n",
       "      <td>Multiple carriers</td>\n",
       "      <td>Delhi</td>\n",
       "      <td>Cochin</td>\n",
       "      <td>DEL → BOM → COK</td>\n",
       "      <td>7h 50m</td>\n",
       "      <td>1 stop</td>\n",
       "      <td>No info</td>\n",
       "      <td>8625</td>\n",
       "      <td>27</td>\n",
       "      <td>5</td>\n",
       "      <td>11</td>\n",
       "      <td>19</td>\n",
       "      <td>25</td>\n",
       "      <td>15</td>\n",
       "      <td>7</td>\n",
       "      <td>50</td>\n",
       "    </tr>\n",
       "  </tbody>\n",
       "</table>\n",
       "</div>"
      ],
      "text/plain": [
       "             Airline    Source Destination                  Route Duration  \\\n",
       "0             IndiGo  Banglore   New Delhi              BLR → DEL   2h 50m   \n",
       "1          Air India   Kolkata    Banglore  CCU → IXR → BBI → BLR   7h 25m   \n",
       "2        Jet Airways     Delhi      Cochin  DEL → LKO → BOM → COK   19h 0m   \n",
       "3             IndiGo   Kolkata    Banglore        CCU → NAG → BLR   5h 25m   \n",
       "4             IndiGo  Banglore   New Delhi        BLR → NAG → DEL   4h 45m   \n",
       "5           SpiceJet   Kolkata    Banglore              CCU → BLR   2h 25m   \n",
       "6        Jet Airways  Banglore   New Delhi        BLR → BOM → DEL  15h 30m   \n",
       "7        Jet Airways  Banglore   New Delhi        BLR → BOM → DEL   21h 5m   \n",
       "8        Jet Airways  Banglore   New Delhi        BLR → BOM → DEL  25h 30m   \n",
       "9  Multiple carriers     Delhi      Cochin        DEL → BOM → COK   7h 50m   \n",
       "\n",
       "  Total_Stops              Additional_Info  Price  day  month  Dep_Time_hour  \\\n",
       "0    non-stop                      No info   3897   24      3             22   \n",
       "1     2 stops                      No info   7662    5      1              5   \n",
       "2     2 stops                      No info  13882    6      9              9   \n",
       "3      1 stop                      No info   6218    5     12             18   \n",
       "4      1 stop                      No info  13302    3      1             16   \n",
       "5    non-stop                      No info   3873   24      6              9   \n",
       "6      1 stop  In-flight meal not included  11087    3     12             18   \n",
       "7      1 stop                      No info  22270    3      1              8   \n",
       "8      1 stop  In-flight meal not included  11087    3     12              8   \n",
       "9      1 stop                      No info   8625   27      5             11   \n",
       "\n",
       "   Arrival_Time_hour  Dep_Time_min  Arrival_Time_min dur_hour dur_min  \n",
       "0                  1            20                10        2      50  \n",
       "1                 13            50                15        7      25  \n",
       "2                  4            25                25       19       0  \n",
       "3                 23             5                30        5      25  \n",
       "4                 21            50                35        4      45  \n",
       "5                 11             0                25        2      25  \n",
       "6                 10            55                25       15      30  \n",
       "7                  5             0                 5       21       5  \n",
       "8                 10            55                25       25      30  \n",
       "9                 19            25                15        7      50  "
      ]
     },
     "execution_count": 40,
     "metadata": {},
     "output_type": "execute_result"
    }
   ],
   "source": [
    "df.head(10)"
   ]
  },
  {
   "cell_type": "code",
   "execution_count": null,
   "metadata": {},
   "outputs": [],
   "source": []
  }
 ],
 "metadata": {
  "hide_input": false,
  "kernelspec": {
   "display_name": "Python 3",
   "language": "python",
   "name": "python3"
  },
  "language_info": {
   "codemirror_mode": {
    "name": "ipython",
    "version": 3
   },
   "file_extension": ".py",
   "mimetype": "text/x-python",
   "name": "python",
   "nbconvert_exporter": "python",
   "pygments_lexer": "ipython3",
   "version": "3.7.0"
  },
  "toc": {
   "base_numbering": 1,
   "nav_menu": {},
   "number_sections": true,
   "sideBar": true,
   "skip_h1_title": false,
   "title_cell": "Table of Contents",
   "title_sidebar": "Contents",
   "toc_cell": false,
   "toc_position": {},
   "toc_section_display": true,
   "toc_window_display": false
  },
  "varInspector": {
   "cols": {
    "lenName": 16,
    "lenType": 16,
    "lenVar": 40
   },
   "kernels_config": {
    "python": {
     "delete_cmd_postfix": "",
     "delete_cmd_prefix": "del ",
     "library": "var_list.py",
     "varRefreshCmd": "print(var_dic_list())"
    },
    "r": {
     "delete_cmd_postfix": ") ",
     "delete_cmd_prefix": "rm(",
     "library": "var_list.r",
     "varRefreshCmd": "cat(var_dic_list()) "
    }
   },
   "types_to_exclude": [
    "module",
    "function",
    "builtin_function_or_method",
    "instance",
    "_Feature"
   ],
   "window_display": false
  }
 },
 "nbformat": 4,
 "nbformat_minor": 2
}
